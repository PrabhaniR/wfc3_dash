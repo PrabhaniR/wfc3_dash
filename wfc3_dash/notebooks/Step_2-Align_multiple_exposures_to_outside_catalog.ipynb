{
 "cells": [
  {
   "cell_type": "markdown",
   "metadata": {},
   "source": [
    "To begin, you need to have processed your IMAs through the Step 1 notebook. You are now going to align all of the individual diff files from those IMA files to an outside catalog and then use TweakBack to apply the distortions back onto the individual diff files. This will allow us to mosaic several exposures of DASH data in notebook Step 3. \n",
    "\n",
    "We will use Gaia DR2, but you can also use a catalog of your own. To start - much of this is pulled from the notebook by V. Bajaj available here: https://github.com/spacetelescope/gaia_alignment"
   ]
  },
  {
   "cell_type": "code",
   "execution_count": null,
   "metadata": {},
   "outputs": [],
   "source": [
    "import glob\n",
    "import math\n",
    "import matplotlib as mpl\n",
    "import matplotlib.pyplot as plt\n",
    "import numpy as np\n",
    "import os\n",
    "import shutil\n",
    "\n",
    "# Astropy packages we'll need\n",
    "from astropy import units as u\n",
    "from astropy.coordinates.sky_coordinate import SkyCoord\n",
    "from astropy.io import fits\n",
    "from astropy.table import Table\n",
    "from astropy.units import Quantity\n",
    "from astropy.visualization import wcsaxes\n",
    "from astropy.wcs import WCS\n",
    "\n",
    "# Astroquery packages used for queries\n",
    "from astroquery.gaia import Gaia\n",
    "from astroquery.simbad import Simbad\n",
    "from astroquery.skyview import SkyView\n",
    "\n",
    "# Drizzle related packages we'll need\n",
    "from drizzlepac import tweakreg\n",
    "from stsci.tools import teal\n",
    "from stwcs import updatewcs\n",
    "\n",
    "# Other handy parts\n",
    "from ginga.util import zscale\n",
    "from multiprocessing import Pool"
   ]
  },
  {
   "cell_type": "code",
   "execution_count": null,
   "metadata": {},
   "outputs": [],
   "source": [
    "# Option 3- Determine coordinates from data\n",
    "from astropy.io import fits\n",
    "from astropy.wcs import WCS\n",
    "from astropy.visualization import wcsaxes\n",
    "\n",
    "from matplotlib.patches import Polygon\n",
    "import matplotlib.cm as cm\n",
    "\n",
    "\n",
    "# ----------------------------------------------------------------------------------------------------------\n",
    "\n",
    "# \n",
    "def get_footprints(im_name):\n",
    "    \"\"\"Calculates positions of the corners of the science extensions of some image 'im_name' in sky space\"\"\"\n",
    "    footprints = []\n",
    "    hdu = fits.open(im_name)\n",
    "    \n",
    "    flt_flag = 'flt.fits' in im_name or 'flc.fits' in im_name\n",
    "    \n",
    "    # Loop ensures that each science extension in a file is accounted for.  This is important for \n",
    "    # multichip imagers like WFC3/UVIS and ACS/WFC\n",
    "    for ext in hdu:\n",
    "        if 'SCI' in ext.name:\n",
    "            hdr = ext.header\n",
    "            wcs = WCS(hdr, hdu)\n",
    "            footprint = wcs.calc_footprint(hdr, undistort=flt_flag)\n",
    "            footprints.append(footprint)\n",
    "    \n",
    "    hdu.close()\n",
    "    return footprints\n",
    "\n",
    "# ----------------------------------------------------------------------------------------------------------\n",
    "def bounds(footprint_list):\n",
    "    \"\"\"Calculate RA/Dec bounding box properties from multiple RA/Dec points\"\"\"\n",
    "        \n",
    "    # flatten list of extensions into numpy array of all corner positions\n",
    "    merged = [ext for image in footprint_list for ext in image]\n",
    "    merged = np.vstack(merged)\n",
    "    ras, decs = merged.T\n",
    "    \n",
    "    # Compute width/height\n",
    "    delta_ra = (max(ras)-min(ras))\n",
    "    delta_dec = max(decs)-min(decs)\n",
    "\n",
    "    # Compute midpoints\n",
    "    ra_midpt = (max(ras)+min(ras))/2.\n",
    "    dec_midpt = (max(decs)+min(decs))/2.\n",
    "    \n",
    "\n",
    "    return ra_midpt, dec_midpt, delta_ra, delta_dec\n",
    "# ----------------------------------------------------------------------------------------------------------\n",
    "\n",
    "            \n",
    "images = glob.glob('mastDownload/HST/idnm1br*/*flt.fits')\n",
    "footprint_list = list(map(get_footprints, images))\n",
    "\n",
    "# # If that's slow, here's a version that runs it in parallel:\n",
    "# from multiprocessing import Pool\n",
    "# p = Pool(8)\n",
    "# footprint_list = list(p.map(get_footprints, images))\n",
    "# p.close()\n",
    "# p.join()\n",
    "\n",
    "\n",
    "ra_midpt, dec_midpt, delta_ra, delta_dec = bounds(footprint_list)\n",
    "\n",
    "coord = SkyCoord(ra=ra_midpt, dec=dec_midpt, unit=u.deg)\n",
    "print(coord)\n",
    "print(footprint_list)"
   ]
  },
  {
   "cell_type": "code",
   "execution_count": null,
   "metadata": {},
   "outputs": [],
   "source": [
    "def plot_footprints(footprint_list, axes_obj=None, fill=True):\n",
    "    \"\"\"Plots the footprints of the images on sky space on axes specified by axes_obj \"\"\"\n",
    "    \n",
    "    if axes_obj != None: \n",
    "        ax = axes_obj\n",
    "    \n",
    "    else: # If no axes passed in, initialize them now\n",
    "        merged = [ext for image in footprint_list for ext in image] # flatten list of RA/Dec\n",
    "        merged = np.vstack(merged)\n",
    "        ras, decs = merged.T\n",
    "        \n",
    "        # Calculate aspect ratio\n",
    "        delta_ra = (max(ras)-min(ras))*np.cos(math.radians(min(np.abs(decs))))\n",
    "        delta_dec = max(decs)-min(decs)\n",
    "        aspect_ratio = delta_dec/delta_ra\n",
    "    \n",
    "        # Initialize axes\n",
    "        fig = plt.figure(figsize=[8,8*aspect_ratio])\n",
    "        ax = fig.add_subplot(111)\n",
    "        ax.set_xlim([max(ras),min(ras)])\n",
    "        ax.set_ylim([min(decs),max(decs)])\n",
    "       \n",
    "        # Labels\n",
    "        ax.set_xlabel('RA [deg]')\n",
    "        ax.set_ylabel('Dec [deg]')\n",
    "        ax.set_title('Footprint sky projection ({} images)'.format(len(footprint_list)))\n",
    "        \n",
    "        ax.grid(ls = ':')\n",
    "    \n",
    "        \n",
    "    colors = cm.rainbow(np.linspace(0, 1, len(footprint_list)))\n",
    "    alpha = 1./float(len(footprint_list)+1.)+.2\n",
    "    \n",
    "    if not fill:\n",
    "        alpha =.8\n",
    "\n",
    "    for i, image in enumerate(footprint_list): # Loop over images\n",
    "        for ext in image: # Loop over extensions in images\n",
    "            if isinstance(ax, wcsaxes.WCSAxes): # Check axes type\n",
    "                rect = Polygon(ext, alpha=alpha, closed=True, fill=fill, \n",
    "                               color=colors[i], transform=ax.get_transform('icrs'))\n",
    "            else:\n",
    "                rect = Polygon(ext, alpha=alpha, closed=True, fill=fill, color=colors[i])\n",
    "\n",
    "            ax.add_patch(rect)\n",
    "    \n",
    "    return ax\n",
    "# ----------------------------------------------------------------------------------------------------------\n",
    "\n",
    "plot_footprints(footprint_list)"
   ]
  },
  {
   "cell_type": "code",
   "execution_count": null,
   "metadata": {},
   "outputs": [],
   "source": [
    "from astropy.units import Quantity\n",
    "from astroquery.gaia import Gaia\n",
    "\n",
    "width = Quantity(delta_ra, u.deg)\n",
    "height = Quantity(delta_dec, u.deg)"
   ]
  },
  {
   "cell_type": "code",
   "execution_count": null,
   "metadata": {},
   "outputs": [],
   "source": [
    "# Perform the query!\n",
    "r = Gaia.query_object_async(coordinate=coord, width=width, height=height)"
   ]
  },
  {
   "cell_type": "code",
   "execution_count": null,
   "metadata": {},
   "outputs": [],
   "source": [
    "# Print the table\n",
    "r"
   ]
  },
  {
   "cell_type": "markdown",
   "metadata": {},
   "source": [
    "#### Save a table of the above query:"
   ]
  },
  {
   "cell_type": "code",
   "execution_count": null,
   "metadata": {},
   "outputs": [],
   "source": [
    "ras = r['ra']\n",
    "decs = r['dec']\n",
    "mags = r['phot_g_mean_mag']\n",
    "ra_error = r['ra_error']\n",
    "dec_error = r['dec_error']\n",
    "\n",
    "tbl = Table([ras, decs]) # Make a temporary table of just the positions\n",
    "tbl.write('gaia.cat', format='ascii.fast_commented_header') # Save the table to a file.  The format argument ensures\n",
    "                                                            # the first line will be commented out."
   ]
  },
  {
   "cell_type": "code",
   "execution_count": null,
   "metadata": {},
   "outputs": [],
   "source": [
    "input_images = sorted(glob.glob('diff/*diff.fits')) \n",
    "derp = list(map(updatewcs.updatewcs, input_images))"
   ]
  },
  {
   "cell_type": "code",
   "execution_count": null,
   "metadata": {},
   "outputs": [],
   "source": [
    "cat = 'gaia.cat'\n",
    "wcsname ='GAIA'\n",
    "teal.unlearn('tweakreg')\n",
    "teal.unlearn('imagefindpars')\n",
    "\n",
    "cw = 3.5\n",
    "\n",
    "tweakreg.TweakReg(input_images, # Pass input images\n",
    "                  updatehdr=True, # update header with new WCS solution\n",
    "                  imagefindcfg={'threshold':25.,'conv_width':cw},# Detection parameters, threshold varies for different data\n",
    "                  separation=0.0, # Allow for very small shifts\n",
    "                  refcat=cat, # Use user supplied catalog (Gaia)\n",
    "                  clean=True, # Get rid of intermediate files\n",
    "                  interactive=False,\n",
    "                  see2dplot=False,\n",
    "                  shiftfile=True, # Save out shift file (so we can look at shifts later)\n",
    "                  wcsname=wcsname, # Give our WCS a new name\n",
    "                  reusename=True,\n",
    "                  fitgeometry='general') # Use the 6 parameter fit"
   ]
  },
  {
   "cell_type": "code",
   "execution_count": null,
   "metadata": {},
   "outputs": [],
   "source": [
    "print(open('shifts.txt').read())"
   ]
  },
  {
   "cell_type": "markdown",
   "metadata": {},
   "source": [
    "Once you have a successful fit then you can run TweakBack to apply the WCS changes to the original diff files you created in step 1. Step 3 is next and with the distortion free diff files you can use Astrodrizzle to create a mosaic of your diff IMA files. "
   ]
  },
  {
   "cell_type": "code",
   "execution_count": null,
   "metadata": {},
   "outputs": [],
   "source": [
    "#Place step here about Tweakback "
   ]
  }
 ],
 "metadata": {
  "kernelspec": {
   "display_name": "Python 3",
   "language": "python",
   "name": "python3"
  },
  "language_info": {
   "codemirror_mode": {
    "name": "ipython",
    "version": 3
   },
   "file_extension": ".py",
   "mimetype": "text/x-python",
   "name": "python",
   "nbconvert_exporter": "python",
   "pygments_lexer": "ipython3",
   "version": "3.7.4"
  }
 },
 "nbformat": 4,
 "nbformat_minor": 2
}
