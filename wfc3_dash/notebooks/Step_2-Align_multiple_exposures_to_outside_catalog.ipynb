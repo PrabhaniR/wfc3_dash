{
 "cells": [
  {
   "cell_type": "markdown",
   "metadata": {},
   "source": [
    "To begin, you need to have processed your IMAs through the Step 1 notebook. You are now going to align all of the individual diff files from those IMA files to an outside catalog and then use TweakBack to apply the distortions back onto the individual diff files. This will allow us to mosaic several exposures of DASH data in notebook Step 3. \n"
   ]
  },
  {
   "cell_type": "markdown",
   "metadata": {},
   "source": [
    "Table of contents: \n",
    "\n",
    "1. <a href='#align_cat'> Align reads to catalog <br> </a>\n",
    "2. <a href='#align_both'> Align reads to each other, then to a catalog <br> </a>"
   ]
  },
  {
   "cell_type": "code",
   "execution_count": null,
   "metadata": {},
   "outputs": [],
   "source": [
    "from astroquery.mast import Observations\n",
    "from astropy.io import fits \n",
    "from astropy.table import Table\n",
    "import matplotlib.pyplot as plt \n",
    "import numpy as np\n",
    "\n",
    "from astropy.io import ascii\n",
    "\n",
    "from glob import glob\n",
    "from drizzlepac import astrodrizzle\n",
    "\n",
    "import os\n",
    "\n",
    "%matplotlib notebook "
   ]
  },
  {
   "cell_type": "code",
   "execution_count": null,
   "metadata": {},
   "outputs": [],
   "source": [
    "import os\n",
    "import sys\n",
    "module_path = os.path.abspath(os.path.join('..'))\n",
    "tmp_path = \"/Users/cmartlin/Desktop/DASH/wfc3_dash/wfc3_dash\"\n",
    "if module_path not in sys.path:\n",
    "    sys.path.append(module_path)\n",
    "if tmp_path not in sys.path:\n",
    "    sys.path.append(tmp_path)\n",
    "\n",
    "from reduce_dash import DashData"
   ]
  },
  {
   "cell_type": "markdown",
   "metadata": {},
   "source": [
    "### 1. Align reads to COSMOS"
   ]
  },
  {
   "cell_type": "markdown",
   "metadata": {},
   "source": [
    "#### Align images.\n",
    "Parameters ref_catalog and ref_image denote the reference catalog and reference image, respectively.  \n",
    "Note: Must be connected to STScI network in order to align to Gaia (specifically to use updatewcs function on the input images for TweakReg). To not use this function, set parameter updatewcsfn to False."
   ]
  },
  {
   "cell_type": "markdown",
   "metadata": {},
   "source": [
    "NB: If an error arises, try lowering the threshold."
   ]
  },
  {
   "cell_type": "code",
   "execution_count": null,
   "metadata": {},
   "outputs": [],
   "source": [
    "from utils import get_IDCtable"
   ]
  },
  {
   "cell_type": "markdown",
   "metadata": {},
   "source": [
    "### Gather the data you will be using first: "
   ]
  },
  {
   "cell_type": "code",
   "execution_count": null,
   "metadata": {},
   "outputs": [],
   "source": [
    "obsTable = Observations.query_criteria(proposal_id=['14114'])\n",
    "\n",
    "product_list = Observations.get_product_list(obsTable)\n",
    "BM = (product_list['productSubGroupDescription']  == 'IMA') \n",
    "product_list = product_list[BM]\n",
    "\n",
    "myID = product_list['obsID'][0:1]\n",
    "\n",
    "download = Observations.download_products(myID,mrp_only=False,productSubGroupDescription=['IMA','FLT'])"
   ]
  },
  {
   "cell_type": "markdown",
   "metadata": {},
   "source": [
    "### Create a DASH object from your file as we did in the first notebook: "
   ]
  },
  {
   "cell_type": "code",
   "execution_count": null,
   "metadata": {},
   "outputs": [],
   "source": [
    "localpathtofile = download['Local Path'][0][:-8]\n",
    "\n",
    "myDash = DashData(localpathtofile+'ima.fits', flt_file_name=localpathtofile+'flt.fits')"
   ]
  },
  {
   "cell_type": "code",
   "execution_count": null,
   "metadata": {},
   "outputs": [],
   "source": [
    "get_IDCtable('mastDownload/HST/icxe01tyq/icxe01tyq_ima.fits')"
   ]
  },
  {
   "cell_type": "code",
   "execution_count": null,
   "metadata": {},
   "outputs": [],
   "source": [
    "import urllib.request\n",
    "import os\n",
    "\n",
    "if not os.path.exists('catalogs'):\n",
    "    os.mkdir('catalogs')\n",
    "\n",
    "print('Beginning catalog download...')\n",
    "\n",
    "url = 'https://irsa.ipac.caltech.edu/data/COSMOS/tables/photometry/cosmos_acs_iphot_200709.tbl'\n",
    "urllib.request.urlretrieve(url, 'catalogs/refcat.tbl')"
   ]
  },
  {
   "cell_type": "markdown",
   "metadata": {},
   "source": [
    "Make a catalog consisting of only the RA and DEC from the COSMOS catalog."
   ]
  },
  {
   "cell_type": "code",
   "execution_count": null,
   "metadata": {},
   "outputs": [],
   "source": [
    "os.system(\"awk '{ print $35, $36 }' catalogs/refcat.tbl > catalogs/cosmos_ra_dec.tbl\")"
   ]
  },
  {
   "cell_type": "markdown",
   "metadata": {},
   "source": [
    "Remove header of catalog."
   ]
  },
  {
   "cell_type": "code",
   "execution_count": null,
   "metadata": {},
   "outputs": [],
   "source": [
    "n = 124\n",
    "nfirstlines = []\n",
    "\n",
    "with open('catalogs/cosmos_ra_dec.tbl') as f, open(\"catalogs/temp_cat.dat\", \"w\") as out:\n",
    "    for x in range(n):\n",
    "        nfirstlines.append(next(f))\n",
    "    for line in f:\n",
    "        out.write(line)\n",
    "\n",
    "os.remove('catalogs/cosmos_ra_dec.tbl')\n",
    "os.rename(\"catalogs/temp_cat.dat\", 'catalogs/cosmos_ra_dec.tbl')"
   ]
  },
  {
   "cell_type": "markdown",
   "metadata": {},
   "source": [
    "Align to COSMOS catalog."
   ]
  },
  {
   "cell_type": "code",
   "execution_count": null,
   "metadata": {},
   "outputs": [],
   "source": [
    "myDash.align(align_method='CATALOG', \n",
    "             ref_catalog='catalogs/cosmos_ra_dec.tbl', \n",
    "             cat_file='catalogs/diff_catfile.cat',\n",
    "             threshold=40., searchrad=60., \n",
    "             cw=3.5, \n",
    "             updatehdr=False, \n",
    "             updatewcs=False, \n",
    "             astrodriz=False)"
   ]
  },
  {
   "cell_type": "markdown",
   "metadata": {},
   "source": [
    "Inspect the shifts file to see if method used produced sufficient results. Notice that some diff files could not sufficiently line up with Gaia. It is up to the user to determine whether this is sufficient or not."
   ]
  },
  {
   "cell_type": "code",
   "execution_count": null,
   "metadata": {},
   "outputs": [],
   "source": [
    "print(open('shifts/shifts_icxe01tyq.txt').read())"
   ]
  },
  {
   "cell_type": "markdown",
   "metadata": {},
   "source": [
    "Update header and plot aligned science images."
   ]
  },
  {
   "cell_type": "code",
   "execution_count": null,
   "metadata": {},
   "outputs": [],
   "source": [
    "myDash.align(align_method='CATALOG', \n",
    "             ref_catalog='catalogs/cosmos_ra_dec.tbl', \n",
    "             cat_file='catalogs/diff_catfile.cat',\n",
    "             threshold=40., searchrad=60., cw=3.5, wcsname='DASH2', move_files=True)"
   ]
  },
  {
   "cell_type": "code",
   "execution_count": null,
   "metadata": {},
   "outputs": [],
   "source": [
    "sci = fits.getdata('icxe01tyq_drz_sci.fits')\n",
    "\n",
    "fig = plt.figure(figsize=(10, 10))\n",
    "\n",
    "plt.imshow(sci, vmin=-0.05, vmax=0.4, cmap='Greys', origin='lower')"
   ]
  },
  {
   "cell_type": "markdown",
   "metadata": {},
   "source": [
    "# 2. Align the reads to each other, then align the final read to a catalog"
   ]
  },
  {
   "cell_type": "markdown",
   "metadata": {},
   "source": [
    "Will most likely give better results, especially if not enough sources are found using catalog method alone.\n"
   ]
  },
  {
   "cell_type": "markdown",
   "metadata": {},
   "source": [
    "### Align sources to each other using TweakReg."
   ]
  },
  {
   "cell_type": "code",
   "execution_count": null,
   "metadata": {},
   "outputs": [],
   "source": [
    "myDash.align(astrodriz=False)"
   ]
  },
  {
   "cell_type": "markdown",
   "metadata": {},
   "source": [
    "### Align updated images to COSMOS."
   ]
  },
  {
   "cell_type": "code",
   "execution_count": null,
   "metadata": {},
   "outputs": [],
   "source": [
    "myDash.align(align_method='CATALOG', \n",
    "             ref_catalog='catalogs/cosmos_ra_dec.tbl', \n",
    "             cat_file='catalogs/diff_catfile.cat',\n",
    "             threshold=40., searchrad=60., cw=3.5, wcsname='DASH3')"
   ]
  },
  {
   "cell_type": "markdown",
   "metadata": {},
   "source": [
    "Inspect the shifts file to see if method used produced sufficient results. Then plot final drizzled image."
   ]
  },
  {
   "cell_type": "code",
   "execution_count": null,
   "metadata": {},
   "outputs": [],
   "source": [
    "print(open('shifts_icxe01tyq.txt').read())"
   ]
  },
  {
   "cell_type": "code",
   "execution_count": null,
   "metadata": {},
   "outputs": [],
   "source": [
    "sci = fits.getdata('icxe01tyq_drz_sci.fits')\n",
    "\n",
    "fig = plt.figure(figsize=(20, 20))\n",
    "\n",
    "plt.imshow(sci, vmin=-0.05, vmax=0.4, cmap='Greys', origin='lower')"
   ]
  },
  {
   "cell_type": "markdown",
   "metadata": {},
   "source": [
    "Once you have a successful fit then you can run TweakBack to apply the WCS changes to the original diff files you created in step 1. Step 3 is next and with the distortion free diff files you can use Astrodrizzle to create a mosaic of your diff IMA files. "
   ]
  },
  {
   "cell_type": "code",
   "execution_count": null,
   "metadata": {},
   "outputs": [],
   "source": []
  }
 ],
 "metadata": {
  "kernelspec": {
   "display_name": "Python 3",
   "language": "python",
   "name": "python3"
  },
  "language_info": {
   "codemirror_mode": {
    "name": "ipython",
    "version": 3
   },
   "file_extension": ".py",
   "mimetype": "text/x-python",
   "name": "python",
   "nbconvert_exporter": "python",
   "pygments_lexer": "ipython3",
   "version": "3.6.10"
  }
 },
 "nbformat": 4,
 "nbformat_minor": 2
}
