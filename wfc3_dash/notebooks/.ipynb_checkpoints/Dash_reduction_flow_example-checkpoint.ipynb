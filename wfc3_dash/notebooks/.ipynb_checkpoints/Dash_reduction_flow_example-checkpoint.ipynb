{
 "cells": [
  {
   "cell_type": "markdown",
   "metadata": {},
   "source": [
    "# Notebook to showcase the basic functioning of the wfc3_dash module"
   ]
  },
  {
   "cell_type": "markdown",
   "metadata": {},
   "source": [
    "## Imports\n",
    "\n",
    "* *astroquery.mast Observations* used to download IMA files from the MAST HST archive\n",
    "* *astropy.io import fits* used to open the files\n",
    "* *matplotlib.pyplot* used to plot the images\n",
    "* *numpy* used for some math"
   ]
  },
  {
   "cell_type": "code",
   "execution_count": null,
   "metadata": {
    "collapsed": true
   },
   "outputs": [],
   "source": [
    "from astroquery.mast import Observations\n",
    "from astropy.io import fits \n",
    "import matplotlib.pyplot as plt \n",
    "import numpy as np \n",
    "\n",
    "%matplotlib notebook "
   ]
  },
  {
   "cell_type": "markdown",
   "metadata": {},
   "source": [
    "## Introduction\n",
    "\n",
    "The wfc3_dash submodule of wfc3_tools is used to reduce the effects of the spacecraft drift for WFC3/IR images taken in DASH mode (i.e. under GYRO control, rather than under Fine-Guide-Sensor control) \n",
    "\n",
    "This notebook works on a single .flt file but can be easily adapted to work on all exposures within a DASH visit or even a DASH program"
   ]
  },
  {
   "cell_type": "markdown",
   "metadata": {},
   "source": [
    "## Downloading some relevant data\n",
    "\n",
    "#### Get the table of observations associated to GO-14114 (PI van Dokkum, the first proposal to use the DASH mode)"
   ]
  },
  {
   "cell_type": "code",
   "execution_count": null,
   "metadata": {
    "collapsed": true
   },
   "outputs": [],
   "source": [
    "obsTable = Observations.query_criteria(proposal_id=['14114'],dataproduct_type=\"image\",project='HST')"
   ]
  },
  {
   "cell_type": "markdown",
   "metadata": {},
   "source": [
    "#### Get the full list of products associated to the table and restric the list to IMA files"
   ]
  },
  {
   "cell_type": "code",
   "execution_count": null,
   "metadata": {
    "collapsed": true,
    "scrolled": true
   },
   "outputs": [],
   "source": [
    "product_list = Observations.get_product_list(obsTable)\n",
    "BM = (product_list['productSubGroupDescription']  == 'IMA') \n",
    "product_list = product_list[BM]"
   ]
  },
  {
   "cell_type": "markdown",
   "metadata": {},
   "source": [
    "#### Display (part of) the IMA files list"
   ]
  },
  {
   "cell_type": "code",
   "execution_count": null,
   "metadata": {
    "collapsed": true
   },
   "outputs": [],
   "source": [
    "product_list.show_in_notebook(display_length=5)"
   ]
  },
  {
   "cell_type": "markdown",
   "metadata": {},
   "source": [
    "#### Pick a single exposure file to work on"
   ]
  },
  {
   "cell_type": "code",
   "execution_count": null,
   "metadata": {
    "collapsed": true
   },
   "outputs": [],
   "source": [
    "myID = product_list['obsID'][0:1]"
   ]
  },
  {
   "cell_type": "markdown",
   "metadata": {},
   "source": [
    "#### Download the IMA and FLT files for that exposure. The standard pipeline-FLT will be used for comparison with the detrended final product"
   ]
  },
  {
   "cell_type": "code",
   "execution_count": null,
   "metadata": {
    "collapsed": true
   },
   "outputs": [],
   "source": [
    "download = Observations.download_products(myID,mrp_only=False,productSubGroupDescription=['IMA','FLT'])"
   ]
  },
  {
   "cell_type": "markdown",
   "metadata": {},
   "source": [
    "#### Display the results of the download operation"
   ]
  },
  {
   "cell_type": "code",
   "execution_count": null,
   "metadata": {
    "collapsed": true
   },
   "outputs": [],
   "source": [
    "download"
   ]
  },
  {
   "cell_type": "markdown",
   "metadata": {},
   "source": [
    "#### Read the files that were just downloaded locally "
   ]
  },
  {
   "cell_type": "code",
   "execution_count": null,
   "metadata": {
    "collapsed": true
   },
   "outputs": [],
   "source": [
    "localpathtofile = download['Local Path'][0][:-8]\n",
    "localpathtofile\n",
    "\n",
    "original_ima = fits.open(localpathtofile+'ima.fits')\n",
    "original_flt = fits.open(localpathtofile+'flt.fits')\n",
    "original_ima.info()"
   ]
  },
  {
   "cell_type": "markdown",
   "metadata": {},
   "source": [
    "#### Plot the individual reads of the IMA file\n",
    "Note: the individual 'SCI' extensions are stored in reverse order, with 'SCI', 1 corresponding to the last read"
   ]
  },
  {
   "cell_type": "code",
   "execution_count": null,
   "metadata": {
    "collapsed": true
   },
   "outputs": [],
   "source": [
    "nsamp = original_ima[0].header['NSAMP']\n",
    "print('NSAMP',nsamp)\n",
    "fig,axarr = plt.subplots((nsamp+3)//4,4, figsize=(12,4*((nsamp+3)//4)))\n",
    "\n",
    "for i in range(1,4*((nsamp+3)//4)+1):\n",
    "\n",
    "    row = (i-1)//4\n",
    "    col = (i-1)%4\n",
    "    if (i <= nsamp+1):\n",
    "        immed = np.nanmedian(original_ima['SCI',i].data)\n",
    "        stdev = np.nanstd(original_ima['SCI',i].data)\n",
    "        axarr[row,col].imshow(original_ima['SCI',i].data,clim=[immed-.3*stdev,immed+1.*stdev],cmap='Greys')\n",
    "        axarr[row,col].set_title('SCI '+str(i))\n",
    "        axarr[row,col].set_xticks([]) \n",
    "        axarr[row,col].set_yticks([]) \n",
    "    else:\n",
    "        fig.delaxes(axarr[row,col])\n",
    "\n",
    "fig.tight_layout()"
   ]
  }
 ],
 "metadata": {
  "kernelspec": {
   "display_name": "Python 3",
   "language": "python",
   "name": "python3"
  },
  "language_info": {
   "codemirror_mode": {
    "name": "ipython",
    "version": 3
   },
   "file_extension": ".py",
   "mimetype": "text/x-python",
   "name": "python",
   "nbconvert_exporter": "python",
   "pygments_lexer": "ipython3",
   "version": "3.5.4"
  }
 },
 "nbformat": 4,
 "nbformat_minor": 2
}
