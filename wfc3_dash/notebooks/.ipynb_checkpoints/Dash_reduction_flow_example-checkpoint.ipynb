{
 "cells": [
  {
   "cell_type": "code",
   "execution_count": null,
   "metadata": {},
   "outputs": [],
   "source": [
    "from astroquery.mast import Observations  #Used to download IMA files from the MAST HST archive\n",
    "from astropy.io import fits #Used to open the files\n",
    "import matplotlib.pyplot as plt #Used to plot the images\n",
    "import numpy as np #Used for some math\n",
    "\n",
    "%matplotlib notebook "
   ]
  },
  {
   "cell_type": "markdown",
   "metadata": {},
   "source": [
    "### Get the table of observations associated to GO-14114 (PI van Dokkum, the first proposal to use the DASH mode)"
   ]
  },
  {
   "cell_type": "code",
   "execution_count": null,
   "metadata": {
    "collapsed": true
   },
   "outputs": [],
   "source": [
    "obsTable = Observations.query_criteria(proposal_id=['14114'],dataproduct_type=\"image\",project='HST')"
   ]
  },
  {
   "cell_type": "markdown",
   "metadata": {},
   "source": [
    "### Get the full list of products associated to the table and restric the list to IMA files"
   ]
  },
  {
   "cell_type": "code",
   "execution_count": null,
   "metadata": {
    "scrolled": true
   },
   "outputs": [],
   "source": [
    "product_list = Observations.get_product_list(obsTable)\n",
    "BM = (product_list['productSubGroupDescription']  == 'IMA') \n",
    "\n",
    "product_list = product_list[BM]\n"
   ]
  },
  {
   "cell_type": "markdown",
   "metadata": {},
   "source": [
    "### Display (part of) the IMA files list"
   ]
  },
  {
   "cell_type": "code",
   "execution_count": null,
   "metadata": {},
   "outputs": [],
   "source": [
    "product_list.show_in_notebook(display_length=5)"
   ]
  },
  {
   "cell_type": "markdown",
   "metadata": {},
   "source": [
    "### Pick a single IMA file to work on, download it and display it"
   ]
  },
  {
   "cell_type": "code",
   "execution_count": null,
   "metadata": {},
   "outputs": [],
   "source": [
    "myID = product_list['obsID'][0:1]\n",
    "download = Observations.download_products(myID,mrp_only=False,productSubGroupDescription=['IMA','DRZ'])"
   ]
  },
  {
   "cell_type": "code",
   "execution_count": null,
   "metadata": {},
   "outputs": [],
   "source": [
    "localpathtofile = download['Local Path'][0]"
   ]
  },
  {
   "cell_type": "code",
   "execution_count": null,
   "metadata": {},
   "outputs": [],
   "source": [
    "original_ima = fits.open(localpathtofile)\n",
    "original_ima.info()"
   ]
  },
  {
   "cell_type": "code",
   "execution_count": null,
   "metadata": {},
   "outputs": [],
   "source": [
    "nsamp = original_ima[0].header['NSAMP']\n",
    "print('NSAMP',nsamp)\n",
    "fig,axarr = plt.subplots(nsamp//4,4, figsize=(14,10))\n",
    "\n",
    "for i in range(nsamp,0,-1):\n",
    "    row = (i-1)//4\n",
    "    col = (i-1)%4\n",
    "    print(row,col,i)\n",
    "    immed = np.nanmedian(original_ima['SCI',i].data)\n",
    "    stdev = np.nanstd(original_ima['SCI',i].data)\n",
    "    axarr[row,col].imshow(original_ima['SCI',i].data,clim=[immed-.3*stdev,immed+1.*stdev],cmap='Greys')\n",
    "    axarr[row,col].set_title(str(i))\n",
    "    axarr[row,col].set_xticks([]) \n",
    "    axarr[row,col].set_yticks([]) \n",
    "    \n",
    "fig.tight_layout()"
   ]
  },
  {
   "cell_type": "code",
   "execution_count": null,
   "metadata": {},
   "outputs": [],
   "source": []
  }
 ],
 "metadata": {
  "kernelspec": {
   "display_name": "Python 3",
   "language": "python",
   "name": "python3"
  },
  "language_info": {
   "codemirror_mode": {
    "name": "ipython",
    "version": 3
   },
   "file_extension": ".py",
   "mimetype": "text/x-python",
   "name": "python",
   "nbconvert_exporter": "python",
   "pygments_lexer": "ipython3",
   "version": "3.5.4"
  }
 },
 "nbformat": 4,
 "nbformat_minor": 2
}
