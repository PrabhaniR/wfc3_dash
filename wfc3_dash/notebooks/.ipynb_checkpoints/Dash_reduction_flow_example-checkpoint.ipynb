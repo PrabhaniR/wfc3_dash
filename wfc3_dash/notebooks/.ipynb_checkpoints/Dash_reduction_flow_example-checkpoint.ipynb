{
 "cells": [
  {
   "cell_type": "markdown",
   "metadata": {},
   "source": [
    "# Notebook to showcase the basic functioning of the wfc3_dash module"
   ]
  },
  {
   "cell_type": "markdown",
   "metadata": {},
   "source": [
    "## Imports\n",
    "\n",
    "* *astroquery.mast Observations* used to download IMA files from the MAST HST archive\n",
    "* *astropy.io import fits* used to open the files\n",
    "* *matplotlib.pyplot* used to plot the images\n",
    "* *numpy* used for some math"
   ]
  },
  {
   "cell_type": "code",
   "execution_count": null,
   "metadata": {},
   "outputs": [],
   "source": [
    "from astroquery.mast import Observations\n",
    "from astropy.io import fits \n",
    "from astropy.table import Table\n",
    "import matplotlib.pyplot as plt \n",
    "import numpy as np \n",
    "\n",
    "%matplotlib notebook "
   ]
  },
  {
   "cell_type": "markdown",
   "metadata": {},
   "source": [
    "## Introduction\n",
    "\n",
    "The wfc3_dash submodule of wfc3_tools is used to reduce the effects of the spacecraft drift for WFC3/IR images taken in DASH mode (i.e. under GYRO control, rather than under Fine-Guide-Sensor control) \n",
    "\n",
    "This notebook works on a single .flt file but can be easily adapted to work on all exposures within a DASH visit or even a DASH program"
   ]
  },
  {
   "cell_type": "markdown",
   "metadata": {},
   "source": [
    "## Downloading some relevant data\n",
    "\n",
    "#### Get the table of observations associated to GO-14114 (PI van Dokkum, the first proposal to use the DASH mode)"
   ]
  },
  {
   "cell_type": "code",
   "execution_count": null,
   "metadata": {
    "collapsed": true
   },
   "outputs": [],
   "source": [
    "obsTable = Observations.query_criteria(proposal_id=['14114'])"
   ]
  },
  {
   "cell_type": "markdown",
   "metadata": {},
   "source": [
    "#### Get the full list of products associated to the table and restric the list to IMA files"
   ]
  },
  {
   "cell_type": "code",
   "execution_count": null,
   "metadata": {
    "collapsed": true,
    "scrolled": true
   },
   "outputs": [],
   "source": [
    "product_list = Observations.get_product_list(obsTable)\n",
    "BM = (product_list['productSubGroupDescription']  == 'IMA') \n",
    "product_list = product_list[BM]"
   ]
  },
  {
   "cell_type": "markdown",
   "metadata": {},
   "source": [
    "#### Display (part of) the IMA files list"
   ]
  },
  {
   "cell_type": "code",
   "execution_count": null,
   "metadata": {},
   "outputs": [],
   "source": [
    "product_list.show_in_notebook(display_length=5)"
   ]
  },
  {
   "cell_type": "markdown",
   "metadata": {},
   "source": [
    "#### Pick a single exposure file to work on"
   ]
  },
  {
   "cell_type": "code",
   "execution_count": null,
   "metadata": {
    "collapsed": true
   },
   "outputs": [],
   "source": [
    "myID = product_list['obsID'][0:1]"
   ]
  },
  {
   "cell_type": "markdown",
   "metadata": {},
   "source": [
    "#### Download the IMA and FLT files for that exposure. The standard pipeline-FLT will be used for comparison with the detrended final product"
   ]
  },
  {
   "cell_type": "code",
   "execution_count": null,
   "metadata": {},
   "outputs": [],
   "source": [
    "download = Observations.download_products(myID,mrp_only=False,productSubGroupDescription=['IMA','FLT'])"
   ]
  },
  {
   "cell_type": "markdown",
   "metadata": {},
   "source": [
    "#### Display the results of the download operation"
   ]
  },
  {
   "cell_type": "code",
   "execution_count": null,
   "metadata": {},
   "outputs": [],
   "source": [
    "download"
   ]
  },
  {
   "cell_type": "markdown",
   "metadata": {},
   "source": [
    "#### Read the files that were just downloaded locally "
   ]
  },
  {
   "cell_type": "code",
   "execution_count": null,
   "metadata": {},
   "outputs": [],
   "source": [
    "localpathtofile = download['Local Path'][0][:-8]\n",
    "localpathtofile\n",
    "\n",
    "original_ima = fits.open(localpathtofile+'ima.fits')\n",
    "original_flt = fits.open(localpathtofile+'flt.fits')\n",
    "original_ima.info()"
   ]
  },
  {
   "cell_type": "markdown",
   "metadata": {},
   "source": [
    "#### Plot the individual reads of the IMA file\n",
    "Note: the individual 'SCI' extensions are stored in reverse order, with 'SCI', 1 corresponding to the last read"
   ]
  },
  {
   "cell_type": "code",
   "execution_count": null,
   "metadata": {},
   "outputs": [],
   "source": [
    "nsamp = original_ima[0].header['NSAMP']\n",
    "print('NSAMP',nsamp)\n",
    "fig,axarr = plt.subplots((nsamp+3)//4,4, figsize=(9,3*((nsamp+3)//4)))\n",
    "\n",
    "for i in range(1,4*((nsamp+3)//4)+1):\n",
    "\n",
    "    row = (i-1)//4\n",
    "    col = (i-1)%4\n",
    "    if (i <= nsamp+1):\n",
    "        immed = np.nanmedian(original_ima['SCI',i].data)\n",
    "        stdev = np.nanstd(original_ima['SCI',i].data)\n",
    "        axarr[row,col].imshow(original_ima['SCI',i].data,clim=[immed-.3*stdev,immed+.5*stdev],cmap='Greys',origin='lower')\n",
    "        axarr[row,col].set_title('SCI '+str(i))\n",
    "        axarr[row,col].set_xticks([]) \n",
    "        axarr[row,col].set_yticks([]) \n",
    "    else:\n",
    "        fig.delaxes(axarr[row,col])\n",
    "\n",
    "fig.tight_layout()"
   ]
  },
  {
   "cell_type": "markdown",
   "metadata": {},
   "source": [
    "## Run the individual steps of the DASH pipeline"
   ]
  },
  {
   "cell_type": "markdown",
   "metadata": {},
   "source": [
    "#### This cell is inserted temporarely to allow for relative imports until the whole wfc3_dash submodule is properly packaged and installed within the wfc3_tools module"
   ]
  },
  {
   "cell_type": "code",
   "execution_count": null,
   "metadata": {},
   "outputs": [],
   "source": [
    "import os\n",
    "import sys\n",
    "module_path = os.path.abspath(os.path.join('..'))\n",
    "if module_path not in sys.path:\n",
    "    sys.path.append(module_path)\n",
    "\n",
    "from reduce_dash import DashData"
   ]
  },
  {
   "cell_type": "markdown",
   "metadata": {},
   "source": [
    "### 1. Create a DashData object using the path to the ima file we have downloaded above"
   ]
  },
  {
   "cell_type": "code",
   "execution_count": null,
   "metadata": {
    "collapsed": true
   },
   "outputs": [],
   "source": [
    "myDash = DashData(localpathtofile+'ima.fits')"
   ]
  },
  {
   "cell_type": "markdown",
   "metadata": {},
   "source": [
    "### 2. create diff files. \n",
    "\n",
    "A diff file contains the counts accumulated between two reads.  \n",
    "The diff files are written to disk in a directory named ./diff under the current working directory (cwd).  \n",
    "In creating diff files, the first difference, between the 1-st and 0-th read is ignored becuase of   \n",
    "its very short expsoure time of 2.9 seconds, resulting in a noisy image.\n",
    "\n",
    "In order to create a correct error extension, the split_ima() method calls the utils.get_flat() function.  \n",
    "Such function reads the name of the flat field used for calibrating the ima images from the ima file header.  \n",
    "If the flat file is not present locally in a directory named ./iref under the cwd, get_flat() will download   \n",
    "the flat field file from the CRDS database https://hst-crds.stsci.edu/unchecked_get/references/hst/ \n",
    "and place it in ./iref ."
   ]
  },
  {
   "cell_type": "code",
   "execution_count": null,
   "metadata": {},
   "outputs": [],
   "source": [
    "myDash.split_ima()"
   ]
  },
  {
   "cell_type": "markdown",
   "metadata": {},
   "source": [
    "#### Plot the diff files"
   ]
  },
  {
   "cell_type": "code",
   "execution_count": null,
   "metadata": {},
   "outputs": [],
   "source": [
    "ndiff = len(myDash.diff_files_list)\n",
    "print('Number of diff files',ndiff)\n",
    "fig,axarr = plt.subplots((ndiff+3)//4,4, figsize=(9,3*((ndiff+3)//4)))\n",
    "\n",
    "for i in range(4*((ndiff+3)//4)):\n",
    "\n",
    "    row = (i)//4\n",
    "    col = (i)%4\n",
    "    if (i < ndiff):\n",
    "        diff_i = fits.open(myDash.diff_files_list[i]+'_diff.fits')\n",
    "        immed = np.nanmedian(diff_i['SCI'].data)\n",
    "        stdev = np.nanstd(diff_i['SCI'].data)\n",
    "        axarr[row,col].imshow(diff_i['SCI'].data,clim=[immed-.3*stdev,immed+.5*stdev],cmap='Greys',origin='lower')\n",
    "        axarr[row,col].set_title('Diff:'+str(i+1))\n",
    "        axarr[row,col].set_xticks([]) \n",
    "        axarr[row,col].set_yticks([]) \n",
    "    else:\n",
    "        fig.delaxes(axarr[row,col])\n",
    "\n",
    "fig.tight_layout()"
   ]
  },
  {
   "cell_type": "markdown",
   "metadata": {},
   "source": [
    "### 3. Create an association file\n",
    "\n",
    "This file mimics a typical association file for dithered exposures, that is used by astrodrizzle   \n",
    "to align and stack multiple exposures taken at the same sky position with small dithers.  \n",
    "We exploit the fact that a WFC3/IR exposure taken under gyro control can be effectively split into   \n",
    "individual pseudo-exposures (the diff images).  \n",
    "Astrodrizzle can treat such pseudo-expsoures as individual dithers, and comnbine them."
   ]
  },
  {
   "cell_type": "code",
   "execution_count": null,
   "metadata": {
    "collapsed": true
   },
   "outputs": [],
   "source": [
    "myDash.make_pointing_asn()"
   ]
  },
  {
   "cell_type": "markdown",
   "metadata": {},
   "source": [
    "#### Show the content of the asn file"
   ]
  },
  {
   "cell_type": "code",
   "execution_count": null,
   "metadata": {},
   "outputs": [],
   "source": [
    "asn_filename = 'diff/{}_asn.fits'.format(myDash.root)\n",
    "asn_table = Table(fits.getdata(asn_filename, ext=1))\n",
    "asn_table.show_in_notebook()"
   ]
  }
 ],
 "metadata": {
  "kernelspec": {
   "display_name": "Python 3",
   "language": "python",
   "name": "python3"
  },
  "language_info": {
   "codemirror_mode": {
    "name": "ipython",
    "version": 3
   },
   "file_extension": ".py",
   "mimetype": "text/x-python",
   "name": "python",
   "nbconvert_exporter": "python",
   "pygments_lexer": "ipython3",
   "version": "3.5.4"
  }
 },
 "nbformat": 4,
 "nbformat_minor": 2
}
